{
 "cells": [
  {
   "cell_type": "code",
   "execution_count": 15,
   "id": "f5a73589-4dd6-4000-bbc3-ead6ddcf162d",
   "metadata": {},
   "outputs": [],
   "source": [
    "import os\n",
    "from pyDataverse.api import NativeApi\n",
    "from pyDataverse.models import Dataset\n",
    "from pyDataverse.utils import read_file\n",
    "\n",
    "%load_ext dotenv"
   ]
  },
  {
   "cell_type": "code",
   "execution_count": 24,
   "id": "a4f8c46d-0161-468f-a6d7-b356613d1dc6",
   "metadata": {},
   "outputs": [],
   "source": [
    "# Load variables from .env file\n",
    "%dotenv\n",
    "API_TOKEN = os.getenv(\"API_TOKEN\")\n",
    "BASE_URL = os.getenv(\"BASE_URL\")"
   ]
  },
  {
   "cell_type": "code",
   "execution_count": 25,
   "id": "d167e126-e3f2-4093-ac24-244a6fbc85db",
   "metadata": {},
   "outputs": [
    {
     "name": "stdout",
     "output_type": "stream",
     "text": [
      "{'id': 1, 'alias': 'root', 'name': 'Root', 'dataverseContacts': [{'displayOrder': 0, 'contactEmail': 'root@mailinator.com'}], 'permissionRoot': True, 'description': 'The root dataverse.', 'dataverseType': 'UNCATEGORIZED', 'creationDate': '2021-04-05T17:21:33Z'}\n"
     ]
    }
   ],
   "source": [
    "# Get :root Dataverse metadata\n",
    "api = NativeApi(BASE_URL, API_TOKEN)\n",
    "resp = api.get_dataverse(\":root\")\n",
    "print(resp.json()[\"data\"])"
   ]
  },
  {
   "cell_type": "code",
   "execution_count": 26,
   "id": "c8551269-e488-4c02-9077-64d936ff662f",
   "metadata": {},
   "outputs": [],
   "source": [
    "# Import Dataset metadata from JSON file\n",
    "ds_filename = \"dataverse_testdata/metadata/json/dataset/dataset_upload_default_min_01.json\"\n",
    "ds_metadata = read_file(ds_filename)\n",
    "ds = Dataset()\n",
    "ds.from_json(ds_metadata)"
   ]
  },
  {
   "cell_type": "code",
   "execution_count": 17,
   "id": "0b36bfaf-38f3-4399-8c30-a234e2e5c1a2",
   "metadata": {},
   "outputs": [
    {
     "name": "stdout",
     "output_type": "stream",
     "text": [
      "Dataset with pid 'doi:10.5072/FK2/VVPQMU' created.\n"
     ]
    }
   ],
   "source": [
    "# Create new Dataset\n",
    "resp = api.create_dataset(\":root\", ds.json())\n",
    "ds_pid = resp.json()[\"data\"][\"persistentId\"]"
   ]
  },
  {
   "cell_type": "code",
   "execution_count": 18,
   "id": "3800b78f-33be-4e1f-831e-232d85cc5922",
   "metadata": {},
   "outputs": [
    {
     "name": "stdout",
     "output_type": "stream",
     "text": [
      "Dataset doi:10.5072/FK2/VVPQMU published\n"
     ]
    }
   ],
   "source": [
    "# Publish Dataset\n",
    "resp = api.publish_dataset(ds_pid, release_type=\"major\")"
   ]
  }
 ],
 "metadata": {
  "kernelspec": {
   "display_name": "Python 3",
   "language": "python",
   "name": "python3"
  },
  "language_info": {
   "codemirror_mode": {
    "name": "ipython",
    "version": 3
   },
   "file_extension": ".py",
   "mimetype": "text/x-python",
   "name": "python",
   "nbconvert_exporter": "python",
   "pygments_lexer": "ipython3",
   "version": "3.6.12"
  }
 },
 "nbformat": 4,
 "nbformat_minor": 5
}

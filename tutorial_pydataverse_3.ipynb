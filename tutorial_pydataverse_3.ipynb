{
 "cells": [
  {
   "cell_type": "code",
   "execution_count": 1,
   "id": "468dfd0f-4148-4966-bf93-7217c567b141",
   "metadata": {},
   "outputs": [],
   "source": [
    "import io\n",
    "import pandas as pd\n",
    "from pyDataverse.api import DataAccessApi\n",
    "from pyDataverse.api import NativeApi"
   ]
  },
  {
   "cell_type": "code",
   "execution_count": 2,
   "id": "67c8cbfe-e0f5-47e3-8e0a-7b6e37d99926",
   "metadata": {},
   "outputs": [
    {
     "name": "stdout",
     "output_type": "stream",
     "text": [
      "Filename is \"10095_da_de_v2_0.tab\", datafile ID is \"4025\"\n",
      "Filename is \"10095_da_de_v2_0.zip\", datafile ID is \"4024\"\n",
      "Filename is \"10095_da_de_v2_0.zsav\", datafile ID is \"4026\"\n",
      "Filename is \"10095_mr_en_v2_0.pdf\", datafile ID is \"4031\"\n",
      "Filename is \"10095_om_de_v2_0.zip\", datafile ID is \"4028\"\n",
      "Filename is \"10095_qu_de_v2_0.pdf\", datafile ID is \"4029\"\n",
      "Filename is \"10095_vi_de_v2_0.tab\", datafile ID is \"4032\"\n"
     ]
    }
   ],
   "source": [
    "# Establish API connection and retrieve content of the dataset\n",
    "native_api = NativeApi(\"https://data.aussda.at\")\n",
    "resp = native_api.get_dataset(\"doi:10.11587/P5YJ0O\")\n",
    "# Get all datafiles related information\n",
    "datafiles = resp.json()[\"data\"][\"latestVersion\"][\"files\"]\n",
    "# Let’s dig further and display the available files\n",
    "for df in datafiles:\n",
    "    filename = df[\"dataFile\"][\"filename\"]\n",
    "    datafile_id = df[\"dataFile\"][\"id\"]\n",
    "    print(f'Filename is \"{filename}\", datafile ID is \"{datafile_id}\"')"
   ]
  },
  {
   "cell_type": "code",
   "execution_count": 3,
   "id": "5d9ec7ae-46f9-44d0-9f6f-cd85edeb1d9f",
   "metadata": {},
   "outputs": [
    {
     "name": "stdout",
     "output_type": "stream",
     "text": [
      "            version                  doi  \\\n",
      "0  2.0 (2021-03-31)  doi:10.11587/P5YJ0O   \n",
      "\n",
      "                                            CITATION  \\\n",
      "0  Kittel, Bernhard; Kritzinger, Sylvia; Boomgaar...   \n",
      "\n",
      "                             FUNDING_ACKNOWLEDGEMENT  RESPID  ENTRY_WAVE  \\\n",
      "0  Data collection has been made possible by COVI...  990001          14   \n",
      "\n",
      "   W1_PANELIST  W2_PANELIST  W3_PANELIST  W4_PANELIST  ...  W15_Q82A6  \\\n",
      "0          NaN          NaN          NaN          NaN  ...        NaN   \n",
      "\n",
      "   W15_Q82A7  W15_Q82A8  W15_Q82A9  W15_Q83  W15_Q84A1  W15_Q84A2  W15_Q84A3  \\\n",
      "0        NaN        NaN        NaN      NaN        NaN        NaN        NaN   \n",
      "\n",
      "   W15_Q84A4  W15_Q93  \n",
      "0        NaN      NaN  \n",
      "\n",
      "[1 rows x 2497 columns]\n"
     ]
    }
   ],
   "source": [
    "# To download data, we need the DataAccess API\n",
    "da_api = DataAccessApi(base_url)\n",
    "# Let's select the first datafile\n",
    "datafile_id = \"4025\"\n",
    "# Download the datafile\n",
    "resp = da_api.get_datafile(datafile_id)\n",
    "# Turn the content into a Pandas DataFrame\n",
    "data = io.StringIO(str(resp.content,'utf-8'))\n",
    "data = pd.read_csv(data, sep=\"\\t\")\n",
    "print(data.head(1))"
   ]
  }
 ],
 "metadata": {
  "kernelspec": {
   "display_name": "Python 3",
   "language": "python",
   "name": "python3"
  },
  "language_info": {
   "codemirror_mode": {
    "name": "ipython",
    "version": 3
   },
   "file_extension": ".py",
   "mimetype": "text/x-python",
   "name": "python",
   "nbconvert_exporter": "python",
   "pygments_lexer": "ipython3",
   "version": "3.6.12"
  }
 },
 "nbformat": 4,
 "nbformat_minor": 5
}

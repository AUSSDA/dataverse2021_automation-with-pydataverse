{
 "cells": [
  {
   "cell_type": "code",
   "execution_count": 2,
   "id": "dbb85c9c-aa8b-4910-ba7a-96306e39f004",
   "metadata": {},
   "outputs": [],
   "source": [
    "from IPython.display import JSON\n",
    "from pyDataverse.models import Dataset\n",
    "from pyDataverse.utils import read_file"
   ]
  },
  {
   "cell_type": "code",
   "execution_count": 4,
   "id": "196b397e-ee72-4d4e-9b38-37d6906c8074",
   "metadata": {},
   "outputs": [
    {
     "data": {
      "text/plain": [
       "{'title': 'Replication Data for: Title',\n",
       " 'author': [{'authorName': 'LastAuthor1, FirstAuthor1'}],\n",
       " 'datasetContact': [{'datasetContactName': 'LastContact1, FirstContact1',\n",
       "   'datasetContactEmail': 'ContactEmail1@mailinator.com'}],\n",
       " 'dsDescription': [{'dsDescriptionValue': 'DescriptionText2'}],\n",
       " 'subject': ['Agricultural Sciences']}"
      ]
     },
     "execution_count": 4,
     "metadata": {},
     "output_type": "execute_result"
    }
   ],
   "source": [
    "# Import Dataset metadata from JSON file\n",
    "ds_filename = \"dataverse_testdata/metadata/json/dataset/dataset_upload_default_min_01.json\"\n",
    "ds_metadata = read_file(ds_filename)\n",
    "ds = Dataset()\n",
    "ds.from_json(ds_metadata)\n",
    "\n",
    "# Output Dataset as dict\n",
    "ds.get()"
   ]
  },
  {
   "cell_type": "code",
   "execution_count": 6,
   "id": "2fb71083-7096-46d4-bcd7-535e9958694c",
   "metadata": {},
   "outputs": [
    {
     "data": {
      "text/plain": [
       "'Replication Data for: Title'"
      ]
     },
     "execution_count": 6,
     "metadata": {},
     "output_type": "execute_result"
    }
   ],
   "source": [
    "ds.get()[\"title\"]"
   ]
  },
  {
   "cell_type": "code",
   "execution_count": 7,
   "id": "b2bfc623-307d-4919-8094-ad93946852bf",
   "metadata": {},
   "outputs": [
    {
     "data": {
      "text/plain": [
       "'Welcome to Dataverse 2021'"
      ]
     },
     "execution_count": 7,
     "metadata": {},
     "output_type": "execute_result"
    }
   ],
   "source": [
    "ds.set({\"title\": \"Welcome to Dataverse 2021\"})\n",
    "ds.get()[\"title\"]"
   ]
  },
  {
   "cell_type": "code",
   "execution_count": 9,
   "id": "baf9d929-8dd6-4f56-a4a2-a312054bb390",
   "metadata": {},
   "outputs": [
    {
     "data": {
      "text/plain": [
       "True"
      ]
     },
     "execution_count": 9,
     "metadata": {},
     "output_type": "execute_result"
    }
   ],
   "source": [
    "ds.validate_json()"
   ]
  },
  {
   "cell_type": "code",
   "execution_count": 10,
   "id": "cc630672-6c74-4158-a2cc-5d93b01fbb82",
   "metadata": {},
   "outputs": [
    {
     "data": {
      "text/plain": [
       "'{\\n  \"datasetVersion\": {\\n    \"metadataBlocks\": {\\n      \"citation\": {\\n        \"fields\": [\\n          {\\n            \"typeName\": \"subject\",\\n            \"multiple\": true,\\n            \"typeClass\": \"controlledVocabulary\",\\n            \"value\": [\\n              \"Agricultural Sciences\"\\n            ]\\n          },\\n          {\\n            \"typeName\": \"title\",\\n            \"multiple\": false,\\n            \"typeClass\": \"primitive\",\\n            \"value\": \"Welcome to Dataverse 2021\"\\n          },\\n          {\\n            \"typeName\": \"author\",\\n            \"multiple\": true,\\n            \"typeClass\": \"compound\",\\n            \"value\": [\\n              {\\n                \"authorName\": {\\n                  \"typeName\": \"authorName\",\\n                  \"typeClass\": \"primitive\",\\n                  \"multiple\": false,\\n                  \"value\": \"LastAuthor1, FirstAuthor1\"\\n                }\\n              }\\n            ]\\n          },\\n          {\\n            \"typeName\": \"datasetContact\",\\n            \"multiple\": true,\\n            \"typeClass\": \"compound\",\\n            \"value\": [\\n              {\\n                \"datasetContactName\": {\\n                  \"typeName\": \"datasetContactName\",\\n                  \"typeClass\": \"primitive\",\\n                  \"multiple\": false,\\n                  \"value\": \"LastContact1, FirstContact1\"\\n                },\\n                \"datasetContactEmail\": {\\n                  \"typeName\": \"datasetContactEmail\",\\n                  \"typeClass\": \"primitive\",\\n                  \"multiple\": false,\\n                  \"value\": \"ContactEmail1@mailinator.com\"\\n                }\\n              }\\n            ]\\n          },\\n          {\\n            \"typeName\": \"dsDescription\",\\n            \"multiple\": true,\\n            \"typeClass\": \"compound\",\\n            \"value\": [\\n              {\\n                \"dsDescriptionValue\": {\\n                  \"typeName\": \"dsDescriptionValue\",\\n                  \"typeClass\": \"primitive\",\\n                  \"multiple\": false,\\n                  \"value\": \"DescriptionText2\"\\n                }\\n              }\\n            ]\\n          }\\n        ]\\n      }\\n    }\\n  }\\n}'"
      ]
     },
     "execution_count": 10,
     "metadata": {},
     "output_type": "execute_result"
    }
   ],
   "source": [
    "ds.json()"
   ]
  }
 ],
 "metadata": {
  "kernelspec": {
   "display_name": "Python 3",
   "language": "python",
   "name": "python3"
  },
  "language_info": {
   "codemirror_mode": {
    "name": "ipython",
    "version": 3
   },
   "file_extension": ".py",
   "mimetype": "text/x-python",
   "name": "python",
   "nbconvert_exporter": "python",
   "pygments_lexer": "ipython3",
   "version": "3.6.12"
  }
 },
 "nbformat": 4,
 "nbformat_minor": 5
}
